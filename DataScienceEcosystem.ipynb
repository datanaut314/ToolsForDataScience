{
 "cells": [
  {
   "cell_type": "markdown",
   "id": "fb68b847-9de0-4f38-b5da-7c3d7207ac5d",
   "metadata": {},
   "source": [
    "# Data Science Tools and Ecosystem"
   ]
  },
  {
   "cell_type": "markdown",
   "id": "f347b4ff-430a-440f-ab7f-42b7cf4ef7a9",
   "metadata": {},
   "source": [
    "In this notebook, Data Science Tools and Ecosystem are summarized."
   ]
  },
  {
   "cell_type": "markdown",
   "id": "9d49286c-f248-480a-80b9-94ecbfb3ab01",
   "metadata": {},
   "source": [
    "## Author: B Hoffman"
   ]
  },
  {
   "cell_type": "markdown",
   "id": "f07390c1-94b3-4d8c-a8a2-f003985a306e",
   "metadata": {},
   "source": [
    "<b>Objectives:</b>\n",
    "- useage of markdown in jupyter lab\n",
    "- lists of popular languages for Data Science\n",
    "- lists of commonly used python libraries for Data Science\n",
    "- demonstration of jupyter lab's ability to work as a development environment and display code output"
   ]
  },
  {
   "cell_type": "markdown",
   "id": "a2183f2a-4e2b-407d-ba17-f320d60fe089",
   "metadata": {},
   "source": [
    "Some of the popular languages that Data Scientists use are:\n",
    "1. Python\n",
    "2. R\n",
    "3. Scala\n",
    "4. Julia\n",
    "5. and many more...!"
   ]
  },
  {
   "cell_type": "markdown",
   "id": "7aad03c4-30ea-449f-90a9-b52fdea65993",
   "metadata": {},
   "source": [
    "Some of the commonly used libraries used by Data Scientists include:\n",
    "1. numpy\n",
    "2. pandas\n",
    "3. matplotlib\n",
    "4. plotly\n",
    "5. scikit-learn (sklearn)"
   ]
  },
  {
   "cell_type": "markdown",
   "id": "5484de42-cba8-4189-bf71-c7b652887e78",
   "metadata": {},
   "source": [
    "|Data Science Tools|\n",
    "|:--------|\n",
    "|Jupyter Lab|\n",
    "|VS Code|\n",
    "|Google Collab|"
   ]
  },
  {
   "cell_type": "markdown",
   "id": "7b09d7d1-2737-404c-8b90-695edd2b9977",
   "metadata": {},
   "source": [
    "### below are a few examples of evaluating arithmetic expressions in Python.\n"
   ]
  },
  {
   "cell_type": "code",
   "execution_count": 5,
   "id": "ffd6f046-6380-4bdf-9973-9af76194232f",
   "metadata": {},
   "outputs": [
    {
     "data": {
      "text/plain": [
       "17"
      ]
     },
     "execution_count": 5,
     "metadata": {},
     "output_type": "execute_result"
    }
   ],
   "source": [
    "# In this code cell evaluate the expression (3*4)+5.\n",
    "# Insert a comment line before the expression to explain the operation e.g. This a simple arithmetic expression to mutiply then add integers.\n",
    "# Then execute the cell to ensure the expression returns the expected output of 17.\n",
    "# Take a screenshot of the code cell with output and name it as 8-multiplyandaddintegers.png (Images can be saved with either the .jpg or .png extension.\n",
    "\n",
    "# This code will evaluate an arithmetic expression and jupyter will display the results!\n",
    "(3*4)+5"
   ]
  },
  {
   "cell_type": "code",
   "execution_count": 5,
   "id": "2d36c637-2e2d-46b6-82a5-2b5c771b8b87",
   "metadata": {},
   "outputs": [
    {
     "name": "stdout",
     "output_type": "stream",
     "text": [
      "given a duration of 200 minutes, that is: 3.33 hours\n"
     ]
    }
   ],
   "source": [
    "#9-hourstominutes.png\n",
    "# this will convert a given duration in minutes into hours by dividing by 60 (minutes per hour)\n",
    "minutes = 200\n",
    "min_per_hour = 60\n",
    "hours = round(minutes/min_per_hour,2)\n",
    "print(f'given a duration of {minutes} minutes, that is: {hours} hours')"
   ]
  },
  {
   "cell_type": "code",
   "execution_count": null,
   "id": "1c7c5175-b34e-4360-a445-18fa4a250f34",
   "metadata": {},
   "outputs": [],
   "source": []
  }
 ],
 "metadata": {
  "kernelspec": {
   "display_name": "Python 3 (ipykernel)",
   "language": "python",
   "name": "python3"
  },
  "language_info": {
   "codemirror_mode": {
    "name": "ipython",
    "version": 3
   },
   "file_extension": ".py",
   "mimetype": "text/x-python",
   "name": "python",
   "nbconvert_exporter": "python",
   "pygments_lexer": "ipython3",
   "version": "3.11.9"
  }
 },
 "nbformat": 4,
 "nbformat_minor": 5
}
